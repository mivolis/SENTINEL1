{
 "cells": [
  {
   "cell_type": "code",
   "execution_count": null,
   "id": "0",
   "metadata": {},
   "outputs": [],
   "source": [
    "import csv\n",
    "import json\n",
    "\n",
    "# Load the JSON data from the file\n",
    "with open('/Users/huyutong/Desktop/PubChemAnnotations_NLM RxNorm Terminology_heading=RXCUI.json', 'r') as file:\n",
    "    data = json.load(file)"
   ]
  },
  {
   "cell_type": "code",
   "execution_count": null,
   "id": "1",
   "metadata": {},
   "outputs": [],
   "source": [
    "data = data['Annotations']['Annotation']"
   ]
  },
  {
   "cell_type": "code",
   "execution_count": null,
   "id": "2",
   "metadata": {},
   "outputs": [],
   "source": [
    "# Extract \"String\" and \"CID\" from each JSON object\n",
    "extracted_data = []\n",
    "for item in data:\n",
    "    string_value = item['Data'][0]['Value']['StringWithMarkup'][0]['String']\n",
    "    print(string_value, end = '\\t')\n",
    "    if \"LinkedRecords\" in item:\n",
    "        linked_records = item[\"LinkedRecords\"]\n",
    "        cid = linked_records[\"CID\"][0] if \"CID\" in linked_records else -1\n",
    "        print(f\"CID: {cid}\")\n",
    "    else:\n",
    "        cid = -1\n",
    "        print(\"'LinkedRecords' key not found in the dictionary\")\n",
    "    extracted_data.append({'String': string_value, 'CID': cid})\n",
    "\n",
    "# Write the extracted data to a CSV file\n",
    "csv_file = '/Users/huyutong/Desktop/extracted_data.csv'\n",
    "csv_columns = ['String', 'CID']\n",
    "with open(csv_file, 'w', newline='') as file:\n",
    "    writer = csv.DictWriter(file, fieldnames=csv_columns)\n",
    "    writer.writeheader()\n",
    "    for data in extracted_data:\n",
    "        writer.writerow(data)\n",
    "\n",
    "print(\"Data extracted and saved to\", csv_file)"
   ]
  },
  {
   "cell_type": "code",
   "execution_count": null,
   "id": "3",
   "metadata": {},
   "outputs": [],
   "source": [
    "string_value = item['Data'][0]['Value']['StringWithMarkup'][0]['String']"
   ]
  },
  {
   "cell_type": "code",
   "execution_count": null,
   "id": "4",
   "metadata": {},
   "outputs": [],
   "source": [
    "string_value"
   ]
  },
  {
   "cell_type": "code",
   "execution_count": null,
   "id": "5",
   "metadata": {},
   "outputs": [],
   "source": [
    "cid_value = item['LinkedRecords']['CID'][0]"
   ]
  },
  {
   "cell_type": "code",
   "execution_count": null,
   "id": "6",
   "metadata": {},
   "outputs": [],
   "source": [
    "cid_value"
   ]
  }
 ],
 "metadata": {
  "kernelspec": {
   "display_name": "Python 3 (ipykernel)",
   "language": "python",
   "name": "python3"
  },
  "language_info": {
   "codemirror_mode": {
    "name": "ipython",
    "version": 3
   },
   "file_extension": ".py",
   "mimetype": "text/x-python",
   "name": "python",
   "nbconvert_exporter": "python",
   "pygments_lexer": "ipython3",
   "version": "3.9.13"
  }
 },
 "nbformat": 4,
 "nbformat_minor": 5
}
