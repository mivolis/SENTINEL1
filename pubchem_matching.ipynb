{
 "cells": [
  {
   "cell_type": "code",
   "execution_count": null,
   "id": "0",
   "metadata": {},
   "outputs": [],
   "source": [
    "import pandas as pd\n",
    "import numpy as np\n",
    "interaction_path = \"interactions.tsv\"\n",
    "warhead_path = \"warhead.csv\"\n",
    "\n",
    "ligand_path = \"ligands.csv\"\n",
    "chembl_path = \"chembl.txt\"\n",
    "drug_bank_full_path = \"drugbank_full.csv\"\n",
    "drug_bank_path = \"drugbank.txt\"\n",
    "ncit_to_chebi_path = \"NCIt-ChEBI_Mapping.txt\"\n",
    "rxcui_path = \"rxcui.csv\""
   ]
  },
  {
   "cell_type": "code",
   "execution_count": null,
   "id": "1",
   "metadata": {},
   "outputs": [],
   "source": [
    "warhead_df = pd.read_csv(warhead_path, sep = ',', header = 0)\n",
    "warhead_df"
   ]
  },
  {
   "cell_type": "code",
   "execution_count": null,
   "id": "2",
   "metadata": {},
   "outputs": [],
   "source": [
    "ligand_df = pd.read_csv(ligand_path, sep = ',', header = 1)\n",
    "ligand_df"
   ]
  },
  {
   "cell_type": "code",
   "execution_count": null,
   "id": "3",
   "metadata": {},
   "outputs": [],
   "source": [
    "ncit_to_chebi_df = pd.read_csv(ncit_to_chebi_path, sep = '\\t', header = None)\n",
    "ncit_to_chebi_df"
   ]
  },
  {
   "cell_type": "code",
   "execution_count": null,
   "id": "4",
   "metadata": {},
   "outputs": [],
   "source": [
    "drug_bank_df = pd.read_csv(drug_bank_path, sep = '\\t', header = 0)\n",
    "drug_bank_df"
   ]
  },
  {
   "cell_type": "code",
   "execution_count": null,
   "id": "5",
   "metadata": {},
   "outputs": [],
   "source": [
    "interaction_df = pd.read_csv(interaction_path, sep = '\\t', header = 2)\n",
    "interaction_df"
   ]
  },
  {
   "cell_type": "code",
   "execution_count": null,
   "id": "6",
   "metadata": {},
   "outputs": [],
   "source": [
    "interaction_df[['source', 'source_id']] = interaction_df['drug_concept_id'].str.split(':', expand=True)"
   ]
  },
  {
   "cell_type": "code",
   "execution_count": null,
   "id": "7",
   "metadata": {},
   "outputs": [],
   "source": [
    "interaction_df"
   ]
  },
  {
   "cell_type": "code",
   "execution_count": null,
   "id": "8",
   "metadata": {},
   "outputs": [],
   "source": [
    "info_before_counts = interaction_df['source'].value_counts()\n",
    "info_before_counts"
   ]
  },
  {
   "cell_type": "code",
   "execution_count": null,
   "id": "9",
   "metadata": {},
   "outputs": [],
   "source": [
    "chembl_ind = interaction_df[interaction_df['source'] == 'chembl'].index\n",
    "chembl_df = interaction_df.iloc[chembl_ind]\n",
    "print('chembl: ',chembl_df.shape)\n",
    "\n",
    "rxcui_ind = interaction_df[interaction_df['source'] == 'rxcui'].index\n",
    "rxcui_df = interaction_df.iloc[rxcui_ind]\n",
    "print('rxcui: ',rxcui_df.shape)\n",
    "\n",
    "ncit_ind = interaction_df[interaction_df['source'] == 'ncit'].index\n",
    "ncit_df = interaction_df.iloc[ncit_ind]\n",
    "print('ncit: ',ncit_df.shape)\n",
    "\n",
    "drugbank_ind = interaction_df[interaction_df['source'] == 'drugbank'].index\n",
    "drugbank_df = interaction_df.iloc[drugbank_ind]\n",
    "print('drugbank: ',drugbank_df.shape)\n",
    "\n",
    "ligand_ind = interaction_df[interaction_df['source'] == 'iuphar.ligand'].index\n",
    "ligand_df = interaction_df.iloc[ligand_ind]\n",
    "print('ligand: ',ligand_df.shape)\n",
    "\n",
    "wikidata_ind = interaction_df[interaction_df['source'] == 'wikidata'].index\n",
    "wikidata_df = interaction_df.iloc[wikidata_ind]\n",
    "print('wikidata: ',wikidata_df.shape)"
   ]
  },
  {
   "cell_type": "code",
   "execution_count": null,
   "id": "10",
   "metadata": {},
   "outputs": [],
   "source": [
    "#chembl mapping\n",
    "chembl_df['source_id'].to_csv('chembl_df.csv', index=False)\n",
    "wikidata_df['source_id'].to_csv('wikidata_df.csv', index=False)\n",
    "drugbank_df['source_id'].to_csv('drugbank_df.csv', index=False)\n",
    "ligand_df['source_id'].to_csv('ligand_df.csv', index=False)"
   ]
  },
  {
   "cell_type": "code",
   "execution_count": null,
   "id": "11",
   "metadata": {},
   "outputs": [],
   "source": [
    "# by using pubchem auto converter\n",
    "chembl_map = pd.read_csv('chembl_map.txt', header = 0, sep = '\\t')\n",
    "drugbank_map = pd.read_csv('drugbank_map.txt', header = 0, sep = '\\t')\n",
    "ligand_map = pd.read_csv('ligand_map.txt', header = 0, sep = '\\t')\n",
    "wikidata_map = pd.read_csv('wikidata_map.txt', header = 0, sep = '\\t')\n",
    "\n",
    "chembl_map = chembl_map.set_index(chembl_ind)\n",
    "interaction_df.loc[chembl_ind, 'Pubid'] = chembl_map['Unnamed: 1']\n",
    "\n",
    "wikidata_map = wikidata_map.set_index(wikidata_ind)\n",
    "interaction_df.loc[wikidata_ind, 'Pubid'] = wikidata_map['Unnamed: 1']\n",
    "\n",
    "drugbank_map = drugbank_map.set_index(drugbank_ind)\n",
    "interaction_df.loc[drugbank_ind, 'Pubid'] = drugbank_map['Unnamed: 1']\n",
    "\n",
    "ligand_map = ligand_map.set_index(ligand_ind)\n",
    "interaction_df.loc[ligand_ind, 'Pubid'] = ligand_map['Unnamed: 1']\n",
    "\n",
    "interaction_df[interaction_df['source']=='iuphar.ligand']\n",
    "interaction_df['Pubid'].notna().sum()"
   ]
  },
  {
   "cell_type": "code",
   "execution_count": null,
   "id": "12",
   "metadata": {},
   "outputs": [],
   "source": [
    "#ncit\n",
    "chebi_ind = interaction_df[interaction_df['source'] == 'ncit'].index\n",
    "chebi_df = interaction_df.iloc[chebi_ind]"
   ]
  },
  {
   "cell_type": "code",
   "execution_count": null,
   "id": "13",
   "metadata": {},
   "outputs": [],
   "source": [
    "# Merge chebi_df with ncit_to_chebi_df\n",
    "ncit_to_chebi_df= ncit_to_chebi_df.drop_duplicates(subset=ncit_to_chebi_df.columns[0])\n",
    "ncit_chebi = pd.merge(chebi_df, ncit_to_chebi_df, left_on='source_id', right_on=ncit_to_chebi_df.columns[0], how='left')\n",
    "\n",
    "# Split the values in column 1 and assign to new columns [2, 3]\n",
    "ncit_chebi[['2', '3']] = ncit_chebi[1].str.split(':', expand=True)\n",
    "\n",
    "# Fill NaN values in column 3 with -2\n",
    "ncit_chebi['3'] = ncit_chebi['3'].fillna(-2)\n",
    "\n",
    "# Read the mapping file\n",
    "mapping = 'drug_links.csv'\n",
    "db_map_df = pd.read_csv(mapping, sep=',', header=0)\n",
    "\n",
    "# Extract relevant columns and fill NaN values with -1\n",
    "chebi_map = db_map_df[['PubChem Compound ID', 'ChEBI ID']]\n",
    "chebi_map = chebi_map.fillna(-1)\n",
    "\n",
    "# Merge ncit_chebi with chebi_map based on column 3 and 'ChEBI ID'\n",
    "chebi_pubid_re = pd.merge(ncit_chebi, chebi_map, left_on=ncit_chebi[\"3\"].astype(int), right_on=chebi_map['ChEBI ID'].astype(int), how='left')\n",
    "chebi_pubid_re = chebi_pubid_re.set_index(ncit_ind)\n",
    "\n",
    "interaction_df.loc[chebi_ind, 'Pubid'] = chebi_pubid_re['PubChem Compound ID']\n",
    "interaction_df['Pubid'].notna().sum()"
   ]
  },
  {
   "cell_type": "code",
   "execution_count": null,
   "id": "14",
   "metadata": {},
   "outputs": [],
   "source": [
    "db_full_df = pd.read_csv(drug_bank_full_path, header = 0, sep = ',')\n",
    "chebi_map2 = pd.merge(ncit_chebi, db_full_df, left_on = ncit_chebi[\"3\"].astype(int), right_on = 'ChEBI ID', how = 'left')\n",
    "chebi_map2 = chebi_map2.set_index(ncit_ind)\n",
    "\n",
    "mask0 = interaction_df.loc[ncit_ind, 'Pubid'].isna()  # Mask for NaN values\n",
    "interaction_df.loc[ncit_ind[mask0], 'Pubid'] = chebi_map2.loc[mask0, 'PubChem Compound ID']\n",
    "(interaction_df['Pubid'].dropna() != -1).sum()"
   ]
  },
  {
   "cell_type": "code",
   "execution_count": null,
   "id": "15",
   "metadata": {},
   "outputs": [],
   "source": [
    "# Pubchem\n",
    "rxcui_df2 = pd.read_csv(\"rxcui_df.csv\", sep = ',', header = None)\n",
    "ncit_df2 = pd.read_csv(\"ncit_df.csv\", sep = ',', header = None)\n",
    "\n",
    "rxcui_map = pd.merge(rxcui_df, rxcui_df2, left_on=rxcui_df['source_id'].astype(int), right_on=rxcui_df2[0].astype(int), how='left')\n",
    "ncit_map = pd.merge(ncit_df, ncit_df2, left_on='source_id', right_on=0, how='left')\n",
    "\n",
    "ncit_map = ncit_map.set_index(ncit_ind)\n",
    "rxcui_map = rxcui_map.set_index(rxcui_ind)\n",
    "\n",
    "interaction_df.loc[rxcui_ind, 'Pubid'] = rxcui_map[1]\n",
    "interaction_df.loc[ncit_ind, 'Pubid'] = ncit_map[1]\n",
    "(interaction_df['Pubid'].dropna() != -1).sum()"
   ]
  },
  {
   "cell_type": "code",
   "execution_count": null,
   "id": "16",
   "metadata": {},
   "outputs": [],
   "source": [
    "#Drugbank\n",
    "db_full_df = pd.read_csv(drug_bank_full_path, header = 0, sep = ',')\n",
    "drugbank_map2 = pd.merge(drugbank_df, db_full_df, left_on = 'source_id', right_on = 'DrugBank ID', how = 'left')\n",
    "drugbank_map2 = drugbank_map2.set_index(drugbank_ind)\n",
    "interaction_df.loc[drugbank_ind, 'Pubid'] = drugbank_map2['PubChem Compound ID']\n",
    "(interaction_df['Pubid'].dropna() != -1).sum()"
   ]
  },
  {
   "cell_type": "code",
   "execution_count": null,
   "id": "17",
   "metadata": {},
   "outputs": [],
   "source": [
    "# Github\n",
    "mapping_full_df = pd.read_csv('drug-mappings.tsv', header=0, sep = '\\t')\n",
    "# pubchem_cid, drugbankId, chembl_id, chebi_id\n",
    "mapping_full_df = mapping_full_df.drop_duplicates(subset = ['drugbankId'], keep='first')\n",
    "interaction_df.loc[interaction_df['Pubid'] == -1, 'Pubid'] = None\n",
    "\n",
    "db_map3 = pd.merge(drugbank_df, mapping_full_df, left_on = 'source_id', right_on = 'drugbankId', how = 'left')\n",
    "db_map3 = db_map3.set_index(drugbank_ind)\n",
    "# Update only rows with NaN in 'Pubid' for the given indices\n",
    "mask = interaction_df.loc[drugbank_ind, 'Pubid'].isna()  # Mask for NaN values\n",
    "interaction_df.loc[drugbank_ind[mask], 'Pubid'] = db_map3.loc[mask, 'pubchem_cid']\n",
    "\n",
    "chembl_map2 = pd.merge(chembl_df, mapping_full_df, left_on = 'source_id', right_on = 'chembl_id', how = 'left')\n",
    "chembl_map2 = chembl_map2.set_index(chembl_ind)\n",
    "# Update only rows with NaN in 'Pubid' for the given indices\n",
    "mask2 = interaction_df.loc[chembl_ind, 'Pubid'].isna()  # Mask for NaN values\n",
    "interaction_df.loc[chembl_ind[mask2], 'Pubid'] = chembl_map2.loc[mask2, 'pubchem_cid']\n",
    "\n",
    "mapping_full_df = mapping_full_df.drop_duplicates(subset = ['chebi_id'], keep='first')\n",
    "chebi_map3 = pd.merge(ncit_chebi, mapping_full_df, left_on = ncit_chebi[\"3\"], right_on = 'chebi_id', how = 'left')\n",
    "chebi_map3 = chebi_map3.set_index(ncit_ind)\n",
    "# Update only rows with NaN in 'Pubid' for the given indices\n",
    "mask3 = interaction_df.loc[ncit_ind, 'Pubid'].isna()  # Mask for NaN values\n",
    "interaction_df.loc[ncit_ind[mask3], 'Pubid'] = chebi_map3.loc[mask3, 'pubchem_cid']\n",
    "\n",
    "(interaction_df['Pubid'].dropna() != -1).sum()"
   ]
  },
  {
   "cell_type": "code",
   "execution_count": null,
   "id": "18",
   "metadata": {},
   "outputs": [],
   "source": [
    "wikidata_df['source_id'].to_csv('wiki.csv', index=False)\n",
    "\n",
    "# Manual edit\n",
    "interaction_df.loc[interaction_df['source_id'] == 'Q6816906,', 'Pubid'] = None"
   ]
  },
  {
   "cell_type": "code",
   "execution_count": null,
   "id": "19",
   "metadata": {},
   "outputs": [],
   "source": [
    "interaction_df.loc[interaction_df['source'] == 'chemidplus', \"Pubid\"]"
   ]
  },
  {
   "cell_type": "code",
   "execution_count": null,
   "id": "20",
   "metadata": {},
   "outputs": [],
   "source": [
    "merged_df = pd.merge(warhead_df, interaction_df, how='inner', left_on= warhead_df['PubChem'].fillna(-4), right_on=interaction_df['Pubid'].fillna(-3))\n",
    "merged_df.drop_duplicates(subset = ['Pubid'], keep='first')"
   ]
  },
  {
   "cell_type": "code",
   "execution_count": null,
   "id": "21",
   "metadata": {},
   "outputs": [],
   "source": [
    "merged_df.to_csv('result.csv')"
   ]
  }
 ],
 "metadata": {
  "kernelspec": {
   "display_name": "Python 3 (ipykernel)",
   "language": "python",
   "name": "python3"
  },
  "language_info": {
   "codemirror_mode": {
    "name": "ipython",
    "version": 3
   },
   "file_extension": ".py",
   "mimetype": "text/x-python",
   "name": "python",
   "nbconvert_exporter": "python",
   "pygments_lexer": "ipython3",
   "version": "3.9.13"
  }
 },
 "nbformat": 4,
 "nbformat_minor": 5
}
